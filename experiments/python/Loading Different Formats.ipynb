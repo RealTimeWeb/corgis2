{
 "cells": [
  {
   "cell_type": "markdown",
   "metadata": {},
   "source": [
    "## CSV"
   ]
  },
  {
   "cell_type": "code",
   "execution_count": 20,
   "metadata": {},
   "outputs": [],
   "source": [
    "import csv\n",
    "\n",
    "def load_csv():\n",
    "    with open('county_crime.csv') as f:\n",
    "        csv_data = [row for row in csv.DictReader(f, skipinitialspace=True)]\n",
    "    for row in csv_data:\n",
    "        for key, value in row.items():\n",
    "            if key in ('Department', 'State'):\n",
    "                continue\n",
    "            elif '.' in value:\n",
    "                row[key] = float(value)\n",
    "            else:\n",
    "                row[key] = int(value)\n",
    "    return csv_data"
   ]
  },
  {
   "cell_type": "code",
   "execution_count": 33,
   "metadata": {},
   "outputs": [
    {
     "name": "stdout",
     "output_type": "stream",
     "text": [
      "1 loop, best of 3: 2.11 s per loop\n"
     ]
    }
   ],
   "source": [
    "%timeit load_csv()"
   ]
  },
  {
   "cell_type": "code",
   "execution_count": null,
   "metadata": {},
   "outputs": [],
   "source": [
    "csv_data = load_csv()"
   ]
  },
  {
   "cell_type": "markdown",
   "metadata": {},
   "source": [
    "Dump so we can test the other forms easily"
   ]
  },
  {
   "cell_type": "code",
   "execution_count": 19,
   "metadata": {},
   "outputs": [],
   "source": [
    "import json\n",
    "\n",
    "with open('county_crime.json', 'w') as f:\n",
    "    return json.dump(csv_data, f)"
   ]
  },
  {
   "cell_type": "code",
   "execution_count": 35,
   "metadata": {},
   "outputs": [],
   "source": [
    "import pickle\n",
    "\n",
    "with open('county_crime.pkl', 'wb') as f:\n",
    "    pickle.dump(csv_data, f, protocol=2)"
   ]
  },
  {
   "cell_type": "markdown",
   "metadata": {},
   "source": [
    "## JSON"
   ]
  },
  {
   "cell_type": "code",
   "execution_count": 31,
   "metadata": {},
   "outputs": [
    {
     "name": "stdout",
     "output_type": "stream",
     "text": [
      "1 loop, best of 3: 1.34 s per loop\n"
     ]
    }
   ],
   "source": [
    "import json\n",
    "\n",
    "def json_load():\n",
    "    with open('county_crime.json') as f:\n",
    "        return json.load(f)\n",
    "    \n",
    "%timeit json_load()"
   ]
  },
  {
   "cell_type": "markdown",
   "metadata": {},
   "source": [
    "## Pickle"
   ]
  },
  {
   "cell_type": "code",
   "execution_count": 36,
   "metadata": {},
   "outputs": [
    {
     "name": "stdout",
     "output_type": "stream",
     "text": [
      "1 loop, best of 3: 361 ms per loop\n"
     ]
    }
   ],
   "source": [
    "import pickle\n",
    "\n",
    "def load_pickle():\n",
    "    with open('county_crime.pkl', 'rb') as f:\n",
    "        return pickle.load(f)\n",
    "    \n",
    "%timeit load_pickle()"
   ]
  },
  {
   "cell_type": "markdown",
   "metadata": {},
   "source": [
    "## SQLite"
   ]
  },
  {
   "cell_type": "code",
   "execution_count": null,
   "metadata": {},
   "outputs": [],
   "source": []
  },
  {
   "cell_type": "markdown",
   "metadata": {},
   "source": [
    "## Plain Open/Read"
   ]
  },
  {
   "cell_type": "code",
   "execution_count": 34,
   "metadata": {},
   "outputs": [
    {
     "name": "stdout",
     "output_type": "stream",
     "text": [
      "10 loops, best of 3: 87.9 ms per loop\n"
     ]
    }
   ],
   "source": [
    "def load_plain():\n",
    "    with open('county_crime.csv') as f:\n",
    "        return f.read()\n",
    "    \n",
    "%timeit load_plain()"
   ]
  }
 ],
 "metadata": {
  "kernelspec": {
   "display_name": "Python [conda env:Anaconda3]",
   "language": "python",
   "name": "conda-env-Anaconda3-py"
  },
  "language_info": {
   "codemirror_mode": {
    "name": "ipython",
    "version": 3
   },
   "file_extension": ".py",
   "mimetype": "text/x-python",
   "name": "python",
   "nbconvert_exporter": "python",
   "pygments_lexer": "ipython3",
   "version": "3.5.4"
  }
 },
 "nbformat": 4,
 "nbformat_minor": 2
}
